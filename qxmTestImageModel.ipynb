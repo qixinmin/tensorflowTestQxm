{
 "cells": [
  {
   "cell_type": "code",
   "execution_count": 8,
   "metadata": {
    "scrolled": true
   },
   "outputs": [
    {
     "name": "stdout",
     "output_type": "stream",
     "text": [
      "WARNING:tensorflow:`period` argument is deprecated. Please use `save_freq` to specify the frequency in number of samples seen.\n",
      "Epoch 1/2\n",
      "     58/Unknown - 115s 2s/step - loss: 0.8393 - sparse_categorical_accuracy: 0.5417\n",
      "Epoch 00001: saving model to D:\\DL\\dogs_cats1/models/cp-0001.ckpt\n",
      "58/58 [==============================] - 116s 2s/step - loss: 0.8393 - sparse_categorical_accuracy: 0.5417\n",
      "Epoch 2/2\n",
      "57/58 [============================>.] - ETA: 1s - loss: 0.6550 - sparse_categorical_accuracy: 0.6146\n",
      "Epoch 00002: saving model to D:\\DL\\dogs_cats1/models/cp-0002.ckpt\n",
      "58/58 [==============================] - 112s 2s/step - loss: 0.6550 - sparse_categorical_accuracy: 0.6148\n"
     ]
    }
   ],
   "source": [
    "import tensorflow as tf\n",
    "import os\n",
    "\n",
    "num_epochs = 2\n",
    "batch_size = 32\n",
    "learning_rate = 0.001\n",
    "data_dir = 'D:\\DL\\dogs_cats1'\n",
    "train_cats_dir = data_dir + '/train/cats/'\n",
    "train_dogs_dir = data_dir + '/train/dogs/'\n",
    "test_cats_dir = data_dir + '/valid/cats/'\n",
    "test_dogs_dir = data_dir + '/valid/dogs/'\n",
    "checkpoint_path = data_dir + \"/models/cp-{epoch:04d}.ckpt\"\n",
    "\n",
    "def _decode_and_resize(filename, label):\n",
    "    image_string = tf.io.read_file(filename)            # 读取原始文件\n",
    "    image_decoded = tf.image.decode_jpeg(image_string)  # 解码JPEG图片\n",
    "    image_resized = tf.image.resize(image_decoded, [256, 256]) / 255.0\n",
    "    return image_resized, label\n",
    "\n",
    "if __name__ == '__main__':\n",
    "    # 构建训练数据集\n",
    "    train_cat_filenames = tf.constant([train_cats_dir + filename for filename in os.listdir(train_cats_dir)])\n",
    "    train_dog_filenames = tf.constant([train_dogs_dir + filename for filename in os.listdir(train_dogs_dir)])\n",
    "    train_filenames = tf.concat([train_cat_filenames, train_dog_filenames], axis=-1)\n",
    "    train_labels = tf.concat([\n",
    "        tf.zeros(train_cat_filenames.shape, dtype=tf.int32), \n",
    "        tf.ones(train_dog_filenames.shape, dtype=tf.int32)], \n",
    "        axis=-1)\n",
    "\n",
    "    train_dataset = tf.data.Dataset.from_tensor_slices((train_filenames, train_labels))\n",
    "    train_dataset = train_dataset.map(\n",
    "        map_func=_decode_and_resize, \n",
    "        num_parallel_calls=tf.data.experimental.AUTOTUNE)\n",
    "    # 取出前buffer_size个数据放入buffer，并从其中随机采样，采样后的数据用后续数据替换\n",
    "    train_dataset = train_dataset.shuffle(buffer_size=23000)    \n",
    "    train_dataset = train_dataset.batch(batch_size)\n",
    "    train_dataset = train_dataset.prefetch(tf.data.experimental.AUTOTUNE)\n",
    "\n",
    "    model = tf.keras.Sequential([\n",
    "        tf.keras.layers.Conv2D(32, 3, activation='relu', input_shape=(256, 256, 3)),\n",
    "        tf.keras.layers.MaxPooling2D(),\n",
    "        tf.keras.layers.Conv2D(32, 5, activation='relu'),\n",
    "        tf.keras.layers.MaxPooling2D(),\n",
    "        tf.keras.layers.Flatten(),\n",
    "        tf.keras.layers.Dense(64, activation='relu'),\n",
    "        tf.keras.layers.Dense(2, activation='softmax')\n",
    "    ])\n",
    "     \n",
    "    model.compile(\n",
    "        optimizer=tf.keras.optimizers.Adam(learning_rate=learning_rate),\n",
    "        loss=tf.keras.losses.sparse_categorical_crossentropy,\n",
    "        metrics=[tf.keras.metrics.sparse_categorical_accuracy]\n",
    "    )\n",
    "\n",
    "    checkpoint_dir = os.path.dirname(checkpoint_path)\n",
    "\n",
    "    # 创建一个保存模型权重的回调\n",
    "    cp_callback = tf.keras.callbacks.ModelCheckpoint(filepath=checkpoint_path,\n",
    "                                                 save_weights_only=True,\n",
    "                                                 verbose=1, period=1)\n",
    "\n",
    "    # 使用新的回调训练模型\n",
    "    model.fit(train_dataset,\n",
    "              epochs=num_epochs,\n",
    "              callbacks=[cp_callback])  # 通过回调训练\n",
    "\n",
    "    # 这可能会生成与保存优化程序状态相关的警告。\n",
    "    # 这些警告（以及整个笔记本中的类似警告）是防止过时使用，可以忽略。\n",
    "    \n",
    "   \n",
    "\n",
    "   # model.fit(train_dataset, epochs=num_epochs)"
   ]
  },
  {
   "cell_type": "code",
   "execution_count": 21,
   "metadata": {},
   "outputs": [
    {
     "name": "stdout",
     "output_type": "stream",
     "text": [
      "(272, 328, 3)\n",
      "<dtype: 'uint8'>\n",
      "(256, 256, 3)\n",
      "0.023835784\n",
      "1.0\n"
     ]
    }
   ],
   "source": [
    "import tensorflow as tf\n",
    "import os\n",
    "\n",
    "img_path=r\"D:\\DL\\dogs_cats1\\test1\\19.jpg\"\n",
    "\n",
    "img_raw = tf.io.read_file(img_path)            # 读取原始文件\n",
    "img_tensor = tf.image.decode_jpeg(img_raw)  # 解码JPEG图片\n",
    "\n",
    "print(img_tensor.shape)\n",
    "print(img_tensor.dtype)\n",
    "img_final = tf.image.resize(img_tensor, [256, 256]) / 255.0\n",
    "\n",
    "print(img_final.shape)\n",
    "print(img_final.numpy().min())\n",
    "print(img_final.numpy().max())\n",
    "image = tf.reshape(img_final, [-1, 256, 256, 3])\n"
   ]
  },
  {
   "cell_type": "code",
   "execution_count": 22,
   "metadata": {},
   "outputs": [
    {
     "data": {
      "text/plain": [
       "array([[0.4464912, 0.5535088]], dtype=float32)"
      ]
     },
     "execution_count": 22,
     "metadata": {},
     "output_type": "execute_result"
    }
   ],
   "source": [
    "model.predict(image)"
   ]
  },
  {
   "cell_type": "code",
   "execution_count": 24,
   "metadata": {},
   "outputs": [
    {
     "data": {
      "text/plain": [
       "'D:\\\\DL\\\\dogs_cats1/models\\\\cp-0002.ckpt'"
      ]
     },
     "execution_count": 24,
     "metadata": {},
     "output_type": "execute_result"
    }
   ],
   "source": [
    "latest = tf.train.latest_checkpoint(checkpoint_dir)\n",
    "latest"
   ]
  },
  {
   "cell_type": "code",
   "execution_count": 25,
   "metadata": {},
   "outputs": [
    {
     "name": "stdout",
     "output_type": "stream",
     "text": [
      "['loss', 'sparse_categorical_accuracy']\n",
      "63/63 [==============================] - 40s 635ms/step - loss: 0.6608 - sparse_categorical_accuracy: 0.6200\n",
      "[0.6608212826743959, 0.62]\n"
     ]
    }
   ],
   "source": [
    "#这一块是从最新的model 加载并使用\n",
    "#create 新的model\n",
    "model = tf.keras.Sequential([\n",
    "    tf.keras.layers.Conv2D(32, 3, activation='relu', input_shape=(256, 256, 3)),\n",
    "    tf.keras.layers.MaxPooling2D(),\n",
    "    tf.keras.layers.Conv2D(32, 5, activation='relu'),\n",
    "    tf.keras.layers.MaxPooling2D(),\n",
    "    tf.keras.layers.Flatten(),\n",
    "    tf.keras.layers.Dense(64, activation='relu'),\n",
    "    tf.keras.layers.Dense(2, activation='softmax')\n",
    "])\n",
    "\n",
    "model.compile(\n",
    "    optimizer=tf.keras.optimizers.Adam(learning_rate=learning_rate),\n",
    "    loss=tf.keras.losses.sparse_categorical_crossentropy,\n",
    "    metrics=[tf.keras.metrics.sparse_categorical_accuracy]\n",
    ")\n",
    "# 加载以前保存的权重\n",
    "model.load_weights(latest)\n",
    "\n",
    " # 构建测试数据集\n",
    "test_cat_filenames = tf.constant([test_cats_dir + filename for filename in os.listdir(test_cats_dir)])\n",
    "test_dog_filenames = tf.constant([test_dogs_dir + filename for filename in os.listdir(test_dogs_dir)])\n",
    "test_filenames = tf.concat([test_cat_filenames, test_dog_filenames], axis=-1)\n",
    "test_labels = tf.concat([\n",
    "     tf.zeros(test_cat_filenames.shape, dtype=tf.int32), \n",
    "     tf.ones(test_dog_filenames.shape, dtype=tf.int32)], \n",
    "     axis=-1)\n",
    "\n",
    "test_dataset = tf.data.Dataset.from_tensor_slices((test_filenames, test_labels))\n",
    "test_dataset = test_dataset.map(_decode_and_resize)\n",
    "test_dataset = test_dataset.batch(batch_size)\n",
    "\n",
    "print(model.metrics_names)\n",
    "print(model.evaluate(test_dataset))"
   ]
  },
  {
   "cell_type": "code",
   "execution_count": 26,
   "metadata": {},
   "outputs": [],
   "source": [
    "model.save('my_model.h5')#保存在当天python的同目录下"
   ]
  },
  {
   "cell_type": "code",
   "execution_count": 27,
   "metadata": {},
   "outputs": [
    {
     "name": "stdout",
     "output_type": "stream",
     "text": [
      "WARNING:tensorflow:Error in loading the saved optimizer state. As a result, your model is starting with a freshly initialized optimizer.\n",
      "Model: \"sequential_2\"\n",
      "_________________________________________________________________\n",
      "Layer (type)                 Output Shape              Param #   \n",
      "=================================================================\n",
      "conv2d_4 (Conv2D)            (None, 254, 254, 32)      896       \n",
      "_________________________________________________________________\n",
      "max_pooling2d_4 (MaxPooling2 (None, 127, 127, 32)      0         \n",
      "_________________________________________________________________\n",
      "conv2d_5 (Conv2D)            (None, 123, 123, 32)      25632     \n",
      "_________________________________________________________________\n",
      "max_pooling2d_5 (MaxPooling2 (None, 61, 61, 32)        0         \n",
      "_________________________________________________________________\n",
      "flatten_2 (Flatten)          (None, 119072)            0         \n",
      "_________________________________________________________________\n",
      "dense_4 (Dense)              (None, 64)                7620672   \n",
      "_________________________________________________________________\n",
      "dense_5 (Dense)              (None, 2)                 130       \n",
      "=================================================================\n",
      "Total params: 7,647,330\n",
      "Trainable params: 7,647,330\n",
      "Non-trainable params: 0\n",
      "_________________________________________________________________\n"
     ]
    }
   ],
   "source": [
    "# 重新创建完全相同的模型，包括其权重和优化程序\n",
    "new_model = tf.keras.models.load_model('my_model.h5')\n",
    "\n",
    "# 显示网络结构\n",
    "new_model.summary()"
   ]
  },
  {
   "cell_type": "code",
   "execution_count": 28,
   "metadata": {},
   "outputs": [
    {
     "name": "stdout",
     "output_type": "stream",
     "text": [
      "Epoch 1/2\n",
      "58/58 [==============================] - 112s 2s/step - loss: 0.5821 - sparse_categorical_accuracy: 0.6912\n",
      "Epoch 2/2\n",
      "58/58 [==============================] - 114s 2s/step - loss: 0.4034 - sparse_categorical_accuracy: 0.8298\n"
     ]
    },
    {
     "data": {
      "text/plain": [
       "<tensorflow.python.keras.callbacks.History at 0x237c06bb948>"
      ]
     },
     "execution_count": 28,
     "metadata": {},
     "output_type": "execute_result"
    }
   ],
   "source": [
    "new_model.fit(train_dataset, epochs=num_epochs)"
   ]
  },
  {
   "cell_type": "code",
   "execution_count": null,
   "metadata": {},
   "outputs": [],
   "source": [
    "model.predict(image)"
   ]
  },
  {
   "cell_type": "code",
   "execution_count": 13,
   "metadata": {},
   "outputs": [
    {
     "name": "stdout",
     "output_type": "stream",
     "text": [
      "['loss', 'sparse_categorical_accuracy']\n",
      "63/63 [==============================] - 35s 557ms/step - loss: 0.6756 - sparse_categorical_accuracy: 0.5815\n",
      "[0.6756408025347997, 0.5815]\n"
     ]
    }
   ],
   "source": [
    "  # 构建测试数据集\n",
    "test_cat_filenames = tf.constant([test_cats_dir + filename for filename in os.listdir(test_cats_dir)])\n",
    "test_dog_filenames = tf.constant([test_dogs_dir + filename for filename in os.listdir(test_dogs_dir)])\n",
    "test_filenames = tf.concat([test_cat_filenames, test_dog_filenames], axis=-1)\n",
    "test_labels = tf.concat([\n",
    "     tf.zeros(test_cat_filenames.shape, dtype=tf.int32), \n",
    "     tf.ones(test_dog_filenames.shape, dtype=tf.int32)], \n",
    "     axis=-1)\n",
    "\n",
    "test_dataset = tf.data.Dataset.from_tensor_slices((test_filenames, test_labels))\n",
    "test_dataset = test_dataset.map(_decode_and_resize)\n",
    "test_dataset = test_dataset.batch(batch_size)\n",
    "\n",
    "print(new_model.metrics_names)\n",
    "print(new_model.evaluate(test_dataset))"
   ]
  },
  {
   "cell_type": "code",
   "execution_count": null,
   "metadata": {},
   "outputs": [],
   "source": []
  },
  {
   "cell_type": "code",
   "execution_count": 7,
   "metadata": {},
   "outputs": [
    {
     "name": "stdout",
     "output_type": "stream",
     "text": [
      "Model: \"sequential_1\"\n",
      "_________________________________________________________________\n",
      "Layer (type)                 Output Shape              Param #   \n",
      "=================================================================\n",
      "conv2d_2 (Conv2D)            (None, 254, 254, 32)      896       \n",
      "_________________________________________________________________\n",
      "max_pooling2d_2 (MaxPooling2 (None, 127, 127, 32)      0         \n",
      "_________________________________________________________________\n",
      "conv2d_3 (Conv2D)            (None, 123, 123, 32)      25632     \n",
      "_________________________________________________________________\n",
      "max_pooling2d_3 (MaxPooling2 (None, 61, 61, 32)        0         \n",
      "_________________________________________________________________\n",
      "flatten_1 (Flatten)          (None, 119072)            0         \n",
      "_________________________________________________________________\n",
      "dense_2 (Dense)              (None, 64)                7620672   \n",
      "_________________________________________________________________\n",
      "dense_3 (Dense)              (None, 2)                 130       \n",
      "=================================================================\n",
      "Total params: 7,647,330\n",
      "Trainable params: 7,647,330\n",
      "Non-trainable params: 0\n",
      "_________________________________________________________________\n"
     ]
    }
   ],
   "source": [
    "model.summary()"
   ]
  },
  {
   "cell_type": "code",
   "execution_count": 3,
   "metadata": {},
   "outputs": [
    {
     "name": "stdout",
     "output_type": "stream",
     "text": [
      "['loss', 'sparse_categorical_accuracy']\n",
      "63/63 [==============================] - 39s 615ms/step - loss: 2.6947 - sparse_categorical_accuracy: 0.6070\n",
      "[2.6946576549893333, 0.607]\n"
     ]
    }
   ],
   "source": [
    "  # 构建测试数据集\n",
    "test_cat_filenames = tf.constant([test_cats_dir + filename for filename in os.listdir(test_cats_dir)])\n",
    "test_dog_filenames = tf.constant([test_dogs_dir + filename for filename in os.listdir(test_dogs_dir)])\n",
    "test_filenames = tf.concat([test_cat_filenames, test_dog_filenames], axis=-1)\n",
    "test_labels = tf.concat([\n",
    "     tf.zeros(test_cat_filenames.shape, dtype=tf.int32), \n",
    "     tf.ones(test_dog_filenames.shape, dtype=tf.int32)], \n",
    "     axis=-1)\n",
    "\n",
    "test_dataset = tf.data.Dataset.from_tensor_slices((test_filenames, test_labels))\n",
    "test_dataset = test_dataset.map(_decode_and_resize)\n",
    "test_dataset = test_dataset.batch(batch_size)\n",
    "\n",
    "print(model.metrics_names)\n",
    "print(model.evaluate(test_dataset))"
   ]
  },
  {
   "cell_type": "code",
   "execution_count": null,
   "metadata": {},
   "outputs": [],
   "source": [
    "model.predict(test_dataset)"
   ]
  },
  {
   "cell_type": "code",
   "execution_count": 6,
   "metadata": {},
   "outputs": [
    {
     "name": "stdout",
     "output_type": "stream",
     "text": [
      "(299, 296, 3)\n",
      "<dtype: 'uint8'>\n",
      "(256, 256, 3)\n",
      "0.00054034067\n",
      "1.0\n"
     ]
    }
   ],
   "source": [
    "import tensorflow as tf\n",
    "import os\n",
    "\n",
    "img_path=r\"D:\\DL\\dogs_cats1\\test1\\2.jpg\"\n",
    "\n",
    "img_raw = tf.io.read_file(img_path)            # 读取原始文件\n",
    "img_tensor = tf.image.decode_jpeg(img_raw)  # 解码JPEG图片\n",
    "\n",
    "print(img_tensor.shape)\n",
    "print(img_tensor.dtype)\n",
    "img_final = tf.image.resize(img_tensor, [256, 256]) / 255.0\n",
    "\n",
    "print(img_final.shape)\n",
    "print(img_final.numpy().min())\n",
    "print(img_final.numpy().max())"
   ]
  },
  {
   "cell_type": "code",
   "execution_count": null,
   "metadata": {},
   "outputs": [],
   "source": []
  }
 ],
 "metadata": {
  "kernelspec": {
   "display_name": "Python 3",
   "language": "python",
   "name": "python3"
  },
  "language_info": {
   "codemirror_mode": {
    "name": "ipython",
    "version": 3
   },
   "file_extension": ".py",
   "mimetype": "text/x-python",
   "name": "python",
   "nbconvert_exporter": "python",
   "pygments_lexer": "ipython3",
   "version": "3.7.4"
  }
 },
 "nbformat": 4,
 "nbformat_minor": 2
}
